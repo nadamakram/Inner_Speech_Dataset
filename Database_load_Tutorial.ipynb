{
  "cells": [
    {
      "cell_type": "markdown",
      "metadata": {
        "id": "n7U7t8vLzdmQ"
      },
      "source": [
        "<a   href=\"https://colab.research.google.com/github//N-Nieto/Inner_Speech_Dataset/blob/master/Database_load_Tutorial.ipynb\" target=\"_parent\"><img src=\"https://colab.research.google.com/assets/colab-badge.svg\" alt=\"Open In Colab\"/></a>"
      ]
    },
    {
      "cell_type": "markdown",
      "metadata": {
        "id": "paw7a25v4CCd"
      },
      "source": [
        "# Tutorial for load the Inner speech database."
      ]
    },
    {
      "cell_type": "markdown",
      "metadata": {
        "id": "ZeJv3XgwUC4R"
      },
      "source": [
        "## Set up - Download and import required libraries"
      ]
    },
    {
      "cell_type": "code",
      "execution_count": 15,
      "metadata": {},
      "outputs": [],
      "source": [
        "!pip3 install mne -q"
      ]
    },
    {
      "cell_type": "code",
      "execution_count": 16,
      "metadata": {
        "cellView": "form",
        "id": "GySLvxiqUJzX"
      },
      "outputs": [],
      "source": [
        "#@title Imports \n",
        "import mne \n",
        "import warnings\n",
        "import numpy as np\n",
        "\n",
        "\n",
        "\n",
        "from Python_Processing.Data_extractions import  extract_data_from_subject\n",
        "from Python_Processing.Data_processing import  select_time_window, transform_for_classificator\n",
        "\n",
        "np.random.seed(23)\n",
        "\n",
        "mne.set_log_level(verbose='warning') #to avoid info at terminal\n",
        "warnings.filterwarnings(action = \"ignore\", category = DeprecationWarning ) \n",
        "warnings.filterwarnings(action = \"ignore\", category = FutureWarning ) "
      ]
    },
    {
      "cell_type": "markdown",
      "metadata": {
        "id": "gcXsT133Chus"
      },
      "source": [
        "## Data Loading."
      ]
    },
    {
      "cell_type": "code",
      "execution_count": 17,
      "metadata": {},
      "outputs": [
        {
          "name": "stdout",
          "output_type": "stream",
          "text": [
            "Requirement already satisfied: awscli in ./venv/lib/python3.8/site-packages (1.34.2)\n",
            "Requirement already satisfied: botocore==1.35.2 in ./venv/lib/python3.8/site-packages (from awscli) (1.35.2)\n",
            "Requirement already satisfied: docutils<0.17,>=0.10 in ./venv/lib/python3.8/site-packages (from awscli) (0.16)\n",
            "Requirement already satisfied: s3transfer<0.11.0,>=0.10.0 in ./venv/lib/python3.8/site-packages (from awscli) (0.10.2)\n",
            "Requirement already satisfied: PyYAML<6.1,>=3.10 in ./venv/lib/python3.8/site-packages (from awscli) (6.0.2)\n",
            "Requirement already satisfied: colorama<0.4.7,>=0.2.5 in ./venv/lib/python3.8/site-packages (from awscli) (0.4.6)\n",
            "Requirement already satisfied: rsa<4.8,>=3.1.2 in ./venv/lib/python3.8/site-packages (from awscli) (4.7.2)\n",
            "Requirement already satisfied: jmespath<2.0.0,>=0.7.1 in ./venv/lib/python3.8/site-packages (from botocore==1.35.2->awscli) (1.0.1)\n",
            "Requirement already satisfied: python-dateutil<3.0.0,>=2.1 in ./venv/lib/python3.8/site-packages (from botocore==1.35.2->awscli) (2.9.0)\n",
            "Requirement already satisfied: urllib3<1.27,>=1.25.4 in ./venv/lib/python3.8/site-packages (from botocore==1.35.2->awscli) (1.26.19)\n",
            "Requirement already satisfied: pyasn1>=0.1.3 in ./venv/lib/python3.8/site-packages (from rsa<4.8,>=3.1.2->awscli) (0.6.0)\n",
            "Requirement already satisfied: six>=1.5 in ./venv/lib/python3.8/site-packages (from python-dateutil<3.0.0,>=2.1->botocore==1.35.2->awscli) (1.16.0)\n"
          ]
        }
      ],
      "source": [
        "!pip3 install awscli"
      ]
    },
    {
      "cell_type": "code",
      "execution_count": null,
      "metadata": {},
      "outputs": [
        {
          "name": "stdout",
          "output_type": "stream",
          "text": [
            "2021-04-17 19:51:45        125 ds003626/.datalad/.gitattributes\n",
            "2021-04-17 19:51:46         63 ds003626/.datalad/config\n",
            "2021-04-17 19:51:46        284 ds003626/.gitattributes\n",
            "2022-03-14 21:25:02        377 ds003626/CHANGES\n",
            "2022-03-14 21:25:02       1675 ds003626/README\n",
            "2021-04-17 19:51:45         36 ds003626/annex-uuid\n",
            "2022-03-14 21:25:02        647 ds003626/dataset_description.json\n",
            "2021-04-17 19:51:48    4240275 ds003626/derivatives/sub-01/ses-01/sub-01_ses-01_baseline-epo.fif\n",
            "2021-04-17 19:51:49  236165355 ds003626/derivatives/sub-01/ses-01/sub-01_ses-01_eeg-epo.fif\n",
            "2022-03-14 21:16:17       6813 ds003626/derivatives/sub-01/ses-01/sub-01_ses-01_events.dat\n",
            "2021-04-17 19:51:59   14775955 ds003626/derivatives/sub-01/ses-01/sub-01_ses-01_exg-epo.fif\n",
            "2021-04-17 19:52:00        615 ds003626/derivatives/sub-01/ses-01/sub-01_ses-01_report.pkl\n",
            "2021-04-17 19:52:00    4239417 ds003626/derivatives/sub-01/ses-02/sub-01_ses-02_baseline-epo.fif\n",
            "2021-04-17 19:52:01  236164497 ds003626/derivatives/sub-01/ses-02/sub-01_ses-02_eeg-epo.fif\n",
            "2022-03-14 21:16:17       6804 ds003626/derivatives/sub-01/ses-02/sub-01_ses-02_events.dat\n",
            "2021-04-17 19:52:13   14775097 ds003626/derivatives/sub-01/ses-02/sub-01_ses-02_exg-epo.fif\n",
            "2021-04-17 19:52:14        615 ds003626/derivatives/sub-01/ses-02/sub-01_ses-02_report.pkl\n",
            "2021-04-17 19:52:14    4232709 ds003626/derivatives/sub-01/ses-03/sub-01_ses-03_baseline-epo.fif\n",
            "2021-04-17 19:52:14  118089889 ds003626/derivatives/sub-01/ses-03/sub-01_ses-03_eeg-epo.fif\n",
            "2022-03-14 21:16:18       3511 ds003626/derivatives/sub-01/ses-03/sub-01_ses-03_events.dat\n",
            "2021-04-17 19:52:20    7388489 ds003626/derivatives/sub-01/ses-03/sub-01_ses-03_exg-epo.fif\n",
            "2021-04-17 19:52:21        495 ds003626/derivatives/sub-01/ses-03/sub-01_ses-03_report.pkl\n",
            "2021-04-17 19:52:21    4239391 ds003626/derivatives/sub-02/ses-01/sub-02_ses-01_baseline-epo.fif\n",
            "2021-04-17 19:52:22  236164471 ds003626/derivatives/sub-02/ses-01/sub-02_ses-01_eeg-epo.fif\n",
            "2022-03-14 21:16:18       6820 ds003626/derivatives/sub-02/ses-01/sub-02_ses-01_events.dat\n",
            "2021-04-17 19:52:44   14775071 ds003626/derivatives/sub-02/ses-01/sub-02_ses-01_exg-epo.fif\n",
            "2021-04-17 19:52:47       1383 ds003626/derivatives/sub-02/ses-01/sub-02_ses-01_report.pkl\n",
            "2021-04-17 19:52:47    4239521 ds003626/derivatives/sub-02/ses-02/sub-02_ses-02_baseline-epo.fif\n",
            "2021-04-17 19:52:48  236164601 ds003626/derivatives/sub-02/ses-02/sub-02_ses-02_eeg-epo.fif\n",
            "2022-03-14 21:16:18       6801 ds003626/derivatives/sub-02/ses-02/sub-02_ses-02_events.dat\n",
            "2021-04-17 19:53:09   14775201 ds003626/derivatives/sub-02/ses-02/sub-02_ses-02_exg-epo.fif\n",
            "2021-04-17 19:53:11        471 ds003626/derivatives/sub-02/ses-02/sub-02_ses-02_report.pkl\n",
            "2021-04-17 19:53:11    4239521 ds003626/derivatives/sub-02/ses-03/sub-02_ses-03_baseline-epo.fif\n",
            "2021-04-17 19:53:11  236164601 ds003626/derivatives/sub-02/ses-03/sub-02_ses-03_eeg-epo.fif\n",
            "2022-03-14 21:16:18       6814 ds003626/derivatives/sub-02/ses-03/sub-02_ses-03_events.dat\n",
            "2021-04-17 19:53:27   14775201 ds003626/derivatives/sub-02/ses-03/sub-02_ses-03_exg-epo.fif\n",
            "2021-04-17 19:53:28        567 ds003626/derivatives/sub-02/ses-03/sub-02_ses-03_report.pkl\n",
            "2021-04-17 19:53:28    4239417 ds003626/derivatives/sub-03/ses-01/sub-03_ses-01_baseline-epo.fif\n",
            "2021-04-17 19:53:29  236164497 ds003626/derivatives/sub-03/ses-01/sub-03_ses-01_eeg-epo.fif\n",
            "2022-03-14 21:16:19       6813 ds003626/derivatives/sub-03/ses-01/sub-03_ses-01_events.dat\n",
            "2021-04-17 19:53:43   14775097 ds003626/derivatives/sub-03/ses-01/sub-03_ses-01_exg-epo.fif\n",
            "2021-04-17 19:53:44        471 ds003626/derivatives/sub-03/ses-01/sub-03_ses-01_report.pkl\n",
            "2021-04-17 19:53:44    4239378 ds003626/derivatives/sub-03/ses-02/sub-03_ses-02_baseline-epo.fif\n",
            "2021-04-17 19:53:45  236164458 ds003626/derivatives/sub-03/ses-02/sub-03_ses-02_eeg-epo.fif\n",
            "2022-03-14 21:16:19       6815 ds003626/derivatives/sub-03/ses-02/sub-03_ses-02_events.dat\n",
            "2021-04-17 19:54:00   14775058 ds003626/derivatives/sub-03/ses-02/sub-03_ses-02_exg-epo.fif\n",
            "2021-04-17 19:54:01        495 ds003626/derivatives/sub-03/ses-02/sub-03_ses-02_report.pkl\n",
            "2021-04-17 19:54:02    4232813 ds003626/derivatives/sub-03/ses-03/sub-03_ses-03_baseline-epo.fif\n",
            "2021-04-17 19:54:02  118089993 ds003626/derivatives/sub-03/ses-03/sub-03_ses-03_eeg-epo.fif\n",
            "2022-03-14 21:16:19       3511 ds003626/derivatives/sub-03/ses-03/sub-03_ses-03_events.dat\n",
            "2021-04-17 19:54:12    7388593 ds003626/derivatives/sub-03/ses-03/sub-03_ses-03_exg-epo.fif\n",
            "2021-04-17 19:54:13        471 ds003626/derivatives/sub-03/ses-03/sub-03_ses-03_report.pkl\n",
            "2021-04-17 19:54:13    4239404 ds003626/derivatives/sub-04/ses-01/sub-04_ses-01_baseline-epo.fif\n",
            "2021-04-17 19:54:14  236164484 ds003626/derivatives/sub-04/ses-01/sub-04_ses-01_eeg-epo.fif\n",
            "2022-03-14 21:16:20       6812 ds003626/derivatives/sub-04/ses-01/sub-04_ses-01_events.dat\n",
            "2021-04-17 19:54:19   14775084 ds003626/derivatives/sub-04/ses-01/sub-04_ses-01_exg-epo.fif\n",
            "2021-04-17 19:54:20        471 ds003626/derivatives/sub-04/ses-01/sub-04_ses-01_report.pkl\n",
            "2021-04-17 19:54:20    4239469 ds003626/derivatives/sub-04/ses-02/sub-04_ses-02_baseline-epo.fif\n",
            "2021-04-17 19:54:21  236164549 ds003626/derivatives/sub-04/ses-02/sub-04_ses-02_eeg-epo.fif\n",
            "2022-03-14 21:16:20       6807 ds003626/derivatives/sub-04/ses-02/sub-04_ses-02_events.dat\n",
            "2021-04-17 19:54:27   14775149 ds003626/derivatives/sub-04/ses-02/sub-04_ses-02_exg-epo.fif\n",
            "2021-04-17 19:54:28        471 ds003626/derivatives/sub-04/ses-02/sub-04_ses-02_report.pkl\n",
            "2021-04-17 19:54:28    4239456 ds003626/derivatives/sub-04/ses-03/sub-04_ses-03_baseline-epo.fif\n",
            "2021-04-17 19:54:28  236164536 ds003626/derivatives/sub-04/ses-03/sub-04_ses-03_eeg-epo.fif\n",
            "2022-03-14 21:16:20       6808 ds003626/derivatives/sub-04/ses-03/sub-04_ses-03_events.dat\n",
            "2021-04-17 19:54:39   14775136 ds003626/derivatives/sub-04/ses-03/sub-04_ses-03_exg-epo.fif\n",
            "2021-04-17 19:54:40        495 ds003626/derivatives/sub-04/ses-03/sub-04_ses-03_report.pkl\n",
            "2021-04-17 19:54:40    4239417 ds003626/derivatives/sub-05/ses-01/sub-05_ses-01_baseline-epo.fif\n",
            "2021-04-17 19:54:41  236164497 ds003626/derivatives/sub-05/ses-01/sub-05_ses-01_eeg-epo.fif\n",
            "2022-03-14 21:16:21       6819 ds003626/derivatives/sub-05/ses-01/sub-05_ses-01_events.dat\n",
            "2021-04-17 19:54:46   14775097 ds003626/derivatives/sub-05/ses-01/sub-05_ses-01_exg-epo.fif\n",
            "2021-04-17 19:54:47        471 ds003626/derivatives/sub-05/ses-01/sub-05_ses-01_report.pkl\n",
            "2021-04-17 19:54:47    4239365 ds003626/derivatives/sub-05/ses-02/sub-05_ses-02_baseline-epo.fif\n",
            "2021-04-17 19:54:48  236164445 ds003626/derivatives/sub-05/ses-02/sub-05_ses-02_eeg-epo.fif\n",
            "2022-03-14 21:16:21       6809 ds003626/derivatives/sub-05/ses-02/sub-05_ses-02_events.dat\n",
            "2021-04-17 19:54:53   14775045 ds003626/derivatives/sub-05/ses-02/sub-05_ses-02_exg-epo.fif\n",
            "2021-04-17 19:54:53        471 ds003626/derivatives/sub-05/ses-02/sub-05_ses-02_report.pkl\n",
            "2021-04-17 19:54:54    4239443 ds003626/derivatives/sub-05/ses-03/sub-05_ses-03_baseline-epo.fif\n",
            "2021-04-17 19:54:54  236164523 ds003626/derivatives/sub-05/ses-03/sub-05_ses-03_eeg-epo.fif\n",
            "2022-03-14 21:16:21       6804 ds003626/derivatives/sub-05/ses-03/sub-05_ses-03_events.dat\n",
            "2021-04-17 19:55:00   14775123 ds003626/derivatives/sub-05/ses-03/sub-05_ses-03_exg-epo.fif\n",
            "2021-04-17 19:55:01        495 ds003626/derivatives/sub-05/ses-03/sub-05_ses-03_report.pkl\n",
            "2021-04-17 19:55:01    4239417 ds003626/derivatives/sub-06/ses-01/sub-06_ses-01_baseline-epo.fif\n",
            "2021-04-17 19:55:01  236164497 ds003626/derivatives/sub-06/ses-01/sub-06_ses-01_eeg-epo.fif\n",
            "2022-03-14 21:16:22       6817 ds003626/derivatives/sub-06/ses-01/sub-06_ses-01_events.dat\n",
            "2021-04-17 19:55:08   14775097 ds003626/derivatives/sub-06/ses-01/sub-06_ses-01_exg-epo.fif\n",
            "2021-04-17 19:55:08        735 ds003626/derivatives/sub-06/ses-01/sub-06_ses-01_report.pkl\n",
            "2021-04-17 19:55:08    4239417 ds003626/derivatives/sub-06/ses-02/sub-06_ses-02_baseline-epo.fif\n",
            "2021-04-17 19:55:09  236164497 ds003626/derivatives/sub-06/ses-02/sub-06_ses-02_eeg-epo.fif\n",
            "2022-03-14 21:16:22       6811 ds003626/derivatives/sub-06/ses-02/sub-06_ses-02_events.dat\n",
            "2021-04-17 19:55:15   14775097 ds003626/derivatives/sub-06/ses-02/sub-06_ses-02_exg-epo.fif\n",
            "2021-04-17 19:55:15        471 ds003626/derivatives/sub-06/ses-02/sub-06_ses-02_report.pkl\n",
            "2021-04-17 19:55:16    4235439 ds003626/derivatives/sub-06/ses-03/sub-06_ses-03_baseline-epo.fif\n",
            "2021-04-17 19:55:16  165319779 ds003626/derivatives/sub-06/ses-03/sub-06_ses-03_eeg-epo.fif\n",
            "2022-03-14 21:16:22       4824 ds003626/derivatives/sub-06/ses-03/sub-06_ses-03_events.dat\n",
            "2021-04-17 19:55:20   10343179 ds003626/derivatives/sub-06/ses-03/sub-06_ses-03_exg-epo.fif\n",
            "2021-04-17 19:55:21        735 ds003626/derivatives/sub-06/ses-03/sub-06_ses-03_report.pkl\n",
            "2021-04-17 19:55:21    4239417 ds003626/derivatives/sub-07/ses-01/sub-07_ses-01_baseline-epo.fif\n",
            "2021-04-17 19:55:21  236164497 ds003626/derivatives/sub-07/ses-01/sub-07_ses-01_eeg-epo.fif\n",
            "2022-03-14 21:16:22       6812 ds003626/derivatives/sub-07/ses-01/sub-07_ses-01_events.dat\n",
            "2021-04-17 19:55:27   14775097 ds003626/derivatives/sub-07/ses-01/sub-07_ses-01_exg-epo.fif\n",
            "2021-04-17 19:55:28        471 ds003626/derivatives/sub-07/ses-01/sub-07_ses-01_report.pkl\n",
            "2021-04-17 19:55:28    4239391 ds003626/derivatives/sub-07/ses-02/sub-07_ses-02_baseline-epo.fif\n",
            "2021-04-17 19:55:29  236164471 ds003626/derivatives/sub-07/ses-02/sub-07_ses-02_eeg-epo.fif\n",
            "2022-03-14 21:16:23       6820 ds003626/derivatives/sub-07/ses-02/sub-07_ses-02_events.dat\n",
            "2021-04-17 19:55:36   14775071 ds003626/derivatives/sub-07/ses-02/sub-07_ses-02_exg-epo.fif\n",
            "2021-04-17 19:55:37        471 ds003626/derivatives/sub-07/ses-02/sub-07_ses-02_report.pkl\n",
            "2021-04-17 19:55:37    4239508 ds003626/derivatives/sub-07/ses-03/sub-07_ses-03_baseline-epo.fif\n",
            "2021-04-17 19:55:37  236164588 ds003626/derivatives/sub-07/ses-03/sub-07_ses-03_eeg-epo.fif\n",
            "2022-03-14 21:16:23       6801 ds003626/derivatives/sub-07/ses-03/sub-07_ses-03_events.dat\n",
            "2021-04-17 19:55:45   14775188 ds003626/derivatives/sub-07/ses-03/sub-07_ses-03_exg-epo.fif\n",
            "2021-04-17 19:55:46        471 ds003626/derivatives/sub-07/ses-03/sub-07_ses-03_report.pkl\n",
            "2021-04-17 19:55:47    4239417 ds003626/derivatives/sub-08/ses-01/sub-08_ses-01_baseline-epo.fif\n",
            "2021-04-17 19:55:47  236164497 ds003626/derivatives/sub-08/ses-01/sub-08_ses-01_eeg-epo.fif\n",
            "2022-03-14 21:16:23       6805 ds003626/derivatives/sub-08/ses-01/sub-08_ses-01_events.dat\n",
            "2021-04-17 19:55:58   14775097 ds003626/derivatives/sub-08/ses-01/sub-08_ses-01_exg-epo.fif\n",
            "2021-04-17 19:55:59        471 ds003626/derivatives/sub-08/ses-01/sub-08_ses-01_report.pkl\n",
            "2021-04-17 19:56:00    4239417 ds003626/derivatives/sub-08/ses-02/sub-08_ses-02_baseline-epo.fif\n",
            "2021-04-17 19:56:00  236164497 ds003626/derivatives/sub-08/ses-02/sub-08_ses-02_eeg-epo.fif\n",
            "2022-03-14 21:16:24       6814 ds003626/derivatives/sub-08/ses-02/sub-08_ses-02_events.dat\n",
            "2021-04-17 19:56:40   14775097 ds003626/derivatives/sub-08/ses-02/sub-08_ses-02_exg-epo.fif\n",
            "2021-04-17 19:56:42        471 ds003626/derivatives/sub-08/ses-02/sub-08_ses-02_report.pkl\n",
            "2021-04-17 19:56:42    4232813 ds003626/derivatives/sub-08/ses-03/sub-08_ses-03_baseline-epo.fif\n",
            "2021-04-17 19:56:42  118089993 ds003626/derivatives/sub-08/ses-03/sub-08_ses-03_eeg-epo.fif\n",
            "2022-03-14 21:16:24       3512 ds003626/derivatives/sub-08/ses-03/sub-08_ses-03_events.dat\n",
            "2021-04-17 19:56:51    7388593 ds003626/derivatives/sub-08/ses-03/sub-08_ses-03_exg-epo.fif\n",
            "2021-04-17 19:56:52        471 ds003626/derivatives/sub-08/ses-03/sub-08_ses-03_report.pkl\n",
            "2021-04-17 19:56:52    4239417 ds003626/derivatives/sub-09/ses-01/sub-09_ses-01_baseline-epo.fif\n",
            "2022-03-14 21:24:46  236164497 ds003626/derivatives/sub-09/ses-01/sub-09_ses-01_eeg-epo.fif\n",
            "2022-03-14 21:16:24       6816 ds003626/derivatives/sub-09/ses-01/sub-09_ses-01_events.dat\n",
            "2021-04-17 19:56:56   14775097 ds003626/derivatives/sub-09/ses-01/sub-09_ses-01_exg-epo.fif\n",
            "2021-04-17 19:56:57        663 ds003626/derivatives/sub-09/ses-01/sub-09_ses-01_report.pkl\n",
            "2021-04-17 19:56:58    4239365 ds003626/derivatives/sub-09/ses-02/sub-09_ses-02_baseline-epo.fif\n",
            "2021-04-17 19:56:58  236164445 ds003626/derivatives/sub-09/ses-02/sub-09_ses-02_eeg-epo.fif\n",
            "2022-03-14 21:16:25       6805 ds003626/derivatives/sub-09/ses-02/sub-09_ses-02_events.dat\n",
            "2021-04-17 19:57:10   14775045 ds003626/derivatives/sub-09/ses-02/sub-09_ses-02_exg-epo.fif\n",
            "2021-04-17 19:57:11        567 ds003626/derivatives/sub-09/ses-02/sub-09_ses-02_report.pkl\n",
            "2021-04-17 19:57:11    4239443 ds003626/derivatives/sub-09/ses-03/sub-09_ses-03_baseline-epo.fif\n",
            "2021-04-17 19:57:11  236164523 ds003626/derivatives/sub-09/ses-03/sub-09_ses-03_eeg-epo.fif\n",
            "2022-03-14 21:16:25       6806 ds003626/derivatives/sub-09/ses-03/sub-09_ses-03_events.dat\n",
            "2021-04-17 19:57:18   14775123 ds003626/derivatives/sub-09/ses-03/sub-09_ses-03_exg-epo.fif\n",
            "2021-04-17 19:57:19        831 ds003626/derivatives/sub-09/ses-03/sub-09_ses-03_report.pkl\n",
            "2021-04-17 19:57:19    4239391 ds003626/derivatives/sub-10/ses-01/sub-10_ses-01_baseline-epo.fif\n",
            "2021-04-17 19:57:19  236164471 ds003626/derivatives/sub-10/ses-01/sub-10_ses-01_eeg-epo.fif\n",
            "2022-03-14 21:16:25       6796 ds003626/derivatives/sub-10/ses-01/sub-10_ses-01_events.dat\n",
            "2021-04-17 19:57:25   14775071 ds003626/derivatives/sub-10/ses-01/sub-10_ses-01_exg-epo.fif\n",
            "2021-04-17 19:57:26        639 ds003626/derivatives/sub-10/ses-01/sub-10_ses-01_report.pkl\n",
            "2021-04-17 19:57:26    4239391 ds003626/derivatives/sub-10/ses-02/sub-10_ses-02_baseline-epo.fif\n",
            "2021-04-17 19:57:27  236164471 ds003626/derivatives/sub-10/ses-02/sub-10_ses-02_eeg-epo.fif\n",
            "2022-03-14 21:16:26       6818 ds003626/derivatives/sub-10/ses-02/sub-10_ses-02_events.dat\n",
            "2021-04-17 19:57:33   14775071 ds003626/derivatives/sub-10/ses-02/sub-10_ses-02_exg-epo.fif\n",
            "2021-04-17 19:57:34        471 ds003626/derivatives/sub-10/ses-02/sub-10_ses-02_report.pkl\n",
            "2021-04-17 19:57:34    4239365 ds003626/derivatives/sub-10/ses-03/sub-10_ses-03_baseline-epo.fif\n",
            "2022-03-14 21:24:53  236164445 ds003626/derivatives/sub-10/ses-03/sub-10_ses-03_eeg-epo.fif\n",
            "2022-03-14 21:16:26       6803 ds003626/derivatives/sub-10/ses-03/sub-10_ses-03_events.dat\n",
            "2021-04-17 19:57:36   14775045 ds003626/derivatives/sub-10/ses-03/sub-10_ses-03_exg-epo.fif\n",
            "2021-04-17 19:57:36        495 ds003626/derivatives/sub-10/ses-03/sub-10_ses-03_report.pkl\n",
            "2022-03-14 21:16:30  771058176 ds003626/sub-01/ses-01/eeg/sub-01_ses-01_task-innerspeech_eeg.bdf\n",
            "2022-03-14 21:16:59  702878208 ds003626/sub-01/ses-02/eeg/sub-01_ses-02_task-innerspeech_eeg.bdf\n",
            "2021-04-17 19:57:39  408271605 ds003626/sub-01/ses-03/eeg/sub-01_ses-03_task-innerspeech_eeg.bdf\n",
            "2022-03-14 21:17:20  686464512 ds003626/sub-02/ses-01/eeg/sub-02_ses-01_task-innerspeech_eeg.bdf\n",
            "2022-03-14 21:17:47  695723520 ds003626/sub-02/ses-02/eeg/sub-02_ses-02_task-innerspeech_eeg.bdf\n",
            "2021-04-17 19:57:50  691935744 ds003626/sub-02/ses-03/eeg/sub-02_ses-03_task-innerspeech_eeg.bdf\n",
            "2021-04-17 19:58:06  686885376 ds003626/sub-03/ses-01/eeg/sub-03_ses-01_task-innerspeech_eeg.bdf\n",
            "2022-03-14 21:18:09  688568832 ds003626/sub-03/ses-02/eeg/sub-03_ses-02_task-innerspeech_eeg.bdf\n",
            "2021-04-17 19:58:25  404064768 ds003626/sub-03/ses-03/eeg/sub-03_ses-03_task-innerspeech_eeg.bdf\n",
            "2022-03-14 21:18:26  680993280 ds003626/sub-04/ses-01/eeg/sub-04_ses-01_task-innerspeech_eeg.bdf\n",
            "2022-03-14 21:18:57  693619200 ds003626/sub-04/ses-02/eeg/sub-04_ses-02_task-innerspeech_eeg.bdf\n",
            "2022-03-14 21:19:15  689410560 ds003626/sub-04/ses-03/eeg/sub-04_ses-03_task-innerspeech_eeg.bdf\n",
            "2021-04-17 19:58:36  683097600 ds003626/sub-05/ses-01/eeg/sub-05_ses-01_task-innerspeech_eeg.bdf\n",
            "2021-04-17 19:58:55  678468096 ds003626/sub-05/ses-02/eeg/sub-05_ses-02_task-innerspeech_eeg.bdf\n",
            "2022-03-14 21:19:32  696565248 ds003626/sub-05/ses-03/eeg/sub-05_ses-03_task-innerspeech_eeg.bdf\n",
            "2022-03-14 21:19:50  677205504 ds003626/sub-06/ses-01/eeg/sub-06_ses-01_task-innerspeech_eeg.bdf\n",
            "2022-03-14 21:20:11  686885376 ds003626/sub-06/ses-02/eeg/sub-06_ses-02_task-innerspeech_eeg.bdf\n",
            "2022-03-14 21:20:33  503388672 ds003626/sub-06/ses-03/eeg/sub-06_ses-03_task-innerspeech_eeg.bdf\n",
            "2022-03-14 21:20:45  679730688 ds003626/sub-07/ses-01/eeg/sub-07_ses-01_task-innerspeech_eeg.bdf\n",
            "2022-03-14 21:21:21  676363776 ds003626/sub-07/ses-02/eeg/sub-07_ses-02_task-innerspeech_eeg.bdf\n",
            "2022-03-14 21:21:38  696565248 ds003626/sub-07/ses-03/eeg/sub-07_ses-03_task-innerspeech_eeg.bdf\n",
            "2022-03-14 21:21:59  681414144 ds003626/sub-08/ses-01/eeg/sub-08_ses-01_task-innerspeech_eeg.bdf\n",
            "2022-03-14 21:22:24  694881792 ds003626/sub-08/ses-02/eeg/sub-08_ses-02_task-innerspeech_eeg.bdf\n",
            "2022-03-14 21:22:42  404064768 ds003626/sub-08/ses-03/eeg/sub-08_ses-03_task-innerspeech_eeg.bdf\n",
            "2021-04-17 19:59:26  683939328 ds003626/sub-09/ses-01/eeg/sub-09_ses-01_task-innerspeech_eeg.bdf\n",
            "2021-04-17 19:59:45  672155136 ds003626/sub-09/ses-02/eeg/sub-09_ses-02_task-innerspeech_eeg.bdf\n",
            "2022-03-14 21:23:00  681414144 ds003626/sub-09/ses-03/eeg/sub-09_ses-03_task-innerspeech_eeg.bdf\n",
            "2021-04-17 20:00:03  673838592 ds003626/sub-10/ses-01/eeg/sub-10_ses-01_task-innerspeech_eeg.bdf\n",
            "2022-03-14 21:23:26  680572416 ds003626/sub-10/ses-02/eeg/sub-10_ses-02_task-innerspeech_eeg.bdf\n",
            "2022-03-14 21:23:54  674259456 ds003626/sub-10/ses-03/eeg/sub-10_ses-03_task-innerspeech_eeg.bdf\n"
          ]
        }
      ],
      "source": [
        "!aws s3 ls --no-sign-request --recursive s3://openneuro.org/ds003626/"
      ]
    },
    {
      "cell_type": "code",
      "execution_count": 18,
      "metadata": {},
      "outputs": [
        {
          "name": "stdout",
          "output_type": "stream",
          "text": [
            "^C\n"
          ]
        }
      ],
      "source": [
        "!aws s3 sync --no-sign-request s3://openneuro.org/ds003626 ds003626-download/"
      ]
    },
    {
      "cell_type": "code",
      "execution_count": null,
      "metadata": {
        "id": "m6f5cvPq_aYr"
      },
      "outputs": [],
      "source": [
        "### Hyperparameters\n",
        "\n",
        "# The root dir has to point to the folder that contains the database\n",
        "root_dir = \"/workspaces/Inner_Speech_Dataset/ds003626-download/\"\n",
        "\n",
        "# Data Type\n",
        "datatype = \"EEG\"\n",
        "\n",
        "# Sampling rate\n",
        "fs = 256\n",
        "\n",
        "# Select the useful par of each trial. Time in seconds\n",
        "t_start = 1.5\n",
        "t_end = 3.5\n",
        "\n",
        "# Subject number\n",
        "N_S = 1   #[1 to 10]\n"
      ]
    },
    {
      "cell_type": "code",
      "execution_count": null,
      "metadata": {
        "cellView": "form",
        "id": "7fQzTOUK1lTn"
      },
      "outputs": [],
      "source": [
        "#@title Data extraction and processing\n",
        "\n",
        "# Load all trials for a single subject\n",
        "X, Y = extract_data_from_subject(root_dir, N_S, datatype)\n",
        "\n",
        "# Cut useful time. i.e action interval\n",
        "X = select_time_window(X = X, t_start = t_start, t_end = t_end, fs = fs)"
      ]
    },
    {
      "cell_type": "code",
      "execution_count": 19,
      "metadata": {
        "id": "9ohrUvI8pip3"
      },
      "outputs": [
        {
          "name": "stdout",
          "output_type": "stream",
          "text": [
            "Data shape: [trials x channels x samples]\n",
            "(500, 128, 512)\n",
            "Labels shape\n",
            "(500, 4)\n"
          ]
        }
      ],
      "source": [
        "print(\"Data shape: [trials x channels x samples]\")\n",
        "print(X.shape) # Trials, channels, samples\n",
        "\n",
        "print(\"Labels shape\")\n",
        "print(Y.shape) # Time stamp, class , condition, session"
      ]
    },
    {
      "cell_type": "code",
      "execution_count": 26,
      "metadata": {},
      "outputs": [
        {
          "data": {
            "text/plain": [
              "array([0., 1.])"
            ]
          },
          "execution_count": 26,
          "metadata": {},
          "output_type": "execute_result"
        }
      ],
      "source": []
    },
    {
      "cell_type": "code",
      "execution_count": 42,
      "metadata": {},
      "outputs": [
        {
          "name": "stdout",
          "output_type": "stream",
          "text": [
            "LOL Current directory: /workspaces/Inner_Speech_Dataset\n",
            "Traceback (most recent call last):\n",
            "  File \"./Python_Processing/Plotting/Plot_ERPs.py\", line 22, in <module>\n",
            "    from Data_extractions import extract_block_data_from_subject\n",
            "  File \"/workspaces/Inner_Speech_Dataset/Python_Processing/Data_extractions.py\", line 14, in <module>\n",
            "    from Python_Processing.Utilitys import sub_name, unify_names       # noqa\n",
            "ModuleNotFoundError: No module named 'Python_Processing'\n"
          ]
        }
      ],
      "source": [
        "!python3 ./Python_Processing/Plotting/Plot_ERPs.py"
      ]
    },
    {
      "cell_type": "code",
      "execution_count": null,
      "metadata": {},
      "outputs": [],
      "source": []
    },
    {
      "cell_type": "code",
      "execution_count": 31,
      "metadata": {},
      "outputs": [
        {
          "name": "stdout",
          "output_type": "stream",
          "text": [
            " Database_load_Tutorial.ipynb  'Stimulation Protocol - MatLab'\n",
            " Inner_Speech_Dataset\t        ds003626-download\n",
            " LICENSE\t\t        environment.yml\n",
            " Python_Processing\t        oryx-build-commands.txt\n",
            " README.md\t\t        venv\n"
          ]
        }
      ],
      "source": [
        "!ls"
      ]
    },
    {
      "cell_type": "code",
      "execution_count": null,
      "metadata": {},
      "outputs": [],
      "source": []
    },
    {
      "cell_type": "code",
      "execution_count": null,
      "metadata": {},
      "outputs": [],
      "source": []
    },
    {
      "cell_type": "code",
      "execution_count": null,
      "metadata": {},
      "outputs": [],
      "source": []
    },
    {
      "cell_type": "code",
      "execution_count": null,
      "metadata": {},
      "outputs": [],
      "source": []
    },
    {
      "cell_type": "markdown",
      "metadata": {
        "id": "UH40Uwz-09d2"
      },
      "source": [
        "## Create the different groups for a classifier. A group is created with one condition and one class. "
      ]
    },
    {
      "cell_type": "code",
      "execution_count": 20,
      "metadata": {
        "id": "RwovCAQCrEme"
      },
      "outputs": [],
      "source": [
        "# Conditions to compared\n",
        "Conditions = [[\"Inner\"],[\"Inner\"]]\n",
        "# The class for the above condition\n",
        "Classes    = [  [\"Up\"] ,[\"Down\"] ]"
      ]
    },
    {
      "cell_type": "code",
      "execution_count": 21,
      "metadata": {
        "id": "RQgiafjjqshv"
      },
      "outputs": [],
      "source": [
        "# Transform data and keep only the trials of interes\n",
        "X , Y =  transform_for_classificator(X, Y, Classes, Conditions)"
      ]
    },
    {
      "cell_type": "code",
      "execution_count": 22,
      "metadata": {
        "colab": {
          "base_uri": "https://localhost:8080/"
        },
        "id": "ooabEqcspZ-X",
        "outputId": "2ac5dc64-43cf-4635-9cf8-f1708a6f86af"
      },
      "outputs": [
        {
          "name": "stdout",
          "output_type": "stream",
          "text": [
            "Final data shape\n",
            "(100, 128, 512)\n",
            "Final labels shape\n",
            "(100,)\n"
          ]
        }
      ],
      "source": [
        "print(\"Final data shape\")\n",
        "print(X.shape)\n",
        "\n",
        "print(\"Final labels shape\")\n",
        "print(Y.shape) "
      ]
    },
    {
      "cell_type": "code",
      "execution_count": 28,
      "metadata": {},
      "outputs": [
        {
          "data": {
            "text/plain": [
              "array([[[ 1.65462687e-05,  1.64649149e-05,  1.20498564e-05, ...,\n",
              "         -7.97352502e-07,  4.48656999e-06,  1.44397579e-05],\n",
              "        [ 1.71068496e-05,  1.64661493e-05,  1.19874070e-05, ...,\n",
              "         -9.93840837e-07,  5.72378655e-06,  1.58112060e-05],\n",
              "        [ 1.73783707e-05,  1.64587800e-05,  1.19444289e-05, ...,\n",
              "         -9.96159441e-09,  6.24076327e-06,  1.56441659e-05],\n",
              "        ...,\n",
              "        [ 1.81377665e-05,  6.25881032e-06, -1.93792653e-06, ...,\n",
              "         -7.86858107e-06, -3.60174593e-06, -8.45177733e-07],\n",
              "        [ 2.05662223e-05,  9.50295798e-06,  2.63608791e-06, ...,\n",
              "         -8.15330652e-06, -4.30845362e-06, -3.09200181e-06],\n",
              "        [ 2.11959667e-05,  9.47883264e-06,  1.75059815e-06, ...,\n",
              "         -8.10794150e-06, -4.34914249e-06, -2.31489193e-06]],\n",
              "\n",
              "       [[-7.03463288e-06, -1.49910685e-05, -9.31665882e-06, ...,\n",
              "         -8.74191961e-06, -1.15206878e-05, -1.49518726e-05],\n",
              "        [-8.06810115e-06, -1.36188294e-05, -9.93089818e-06, ...,\n",
              "         -8.73303696e-06, -1.17522042e-05, -1.43150463e-05],\n",
              "        [-6.91490675e-06, -1.38299976e-05, -9.83297786e-06, ...,\n",
              "         -8.59296588e-06, -1.27714314e-05, -1.55681228e-05],\n",
              "        ...,\n",
              "        [ 8.36565220e-06,  2.94828288e-06, -8.39774640e-07, ...,\n",
              "         -7.81415032e-06, -1.39228812e-05, -1.22113526e-05],\n",
              "        [ 7.83481326e-06,  8.68243533e-06,  2.11616292e-06, ...,\n",
              "         -8.12816602e-06, -1.04303538e-05, -6.00925358e-06],\n",
              "        [ 6.48948342e-06,  7.81083491e-06,  1.53399486e-06, ...,\n",
              "         -8.12429454e-06, -1.04800295e-05, -7.04621185e-06]],\n",
              "\n",
              "       [[-4.33015449e-07, -2.28747076e-06, -6.97287361e-06, ...,\n",
              "         -1.52834158e-05, -1.37701382e-05, -1.56446459e-05],\n",
              "        [ 4.49340664e-07, -1.95720364e-06, -5.94241300e-06, ...,\n",
              "         -1.44028317e-05, -1.33480923e-05, -1.48929772e-05],\n",
              "        [ 9.94250678e-08, -1.87797019e-06, -5.97275223e-06, ...,\n",
              "         -1.51021258e-05, -1.40320420e-05, -1.54328473e-05],\n",
              "        ...,\n",
              "        [ 1.14418949e-05,  1.33875614e-05,  1.72688419e-05, ...,\n",
              "          4.45787231e-07,  5.59529910e-06,  4.22163898e-06],\n",
              "        [-9.88200931e-07,  2.12402828e-06,  6.99260019e-06, ...,\n",
              "          2.51516793e-06,  6.11588496e-07, -3.82715654e-07],\n",
              "        [-9.04163047e-07,  8.03965862e-07,  6.57201735e-06, ...,\n",
              "          3.43773073e-06,  1.33758260e-06, -3.59481671e-07]],\n",
              "\n",
              "       ...,\n",
              "\n",
              "       [[ 8.90701129e-06,  4.67824991e-06, -2.54953121e-06, ...,\n",
              "         -3.26281174e-06,  2.59677427e-06,  8.96088656e-07],\n",
              "        [ 9.39214841e-06,  5.05052320e-06, -1.06094128e-06, ...,\n",
              "         -3.27824619e-06,  3.15355596e-06,  4.78866758e-07],\n",
              "        [ 8.62097390e-06,  5.16422862e-06, -1.23348112e-06, ...,\n",
              "         -2.83101595e-06,  3.59232956e-06,  7.28538254e-07],\n",
              "        ...,\n",
              "        [-3.15033209e-06,  3.30553032e-06,  5.61637203e-06, ...,\n",
              "          9.63970807e-06,  1.13444302e-05,  4.57018063e-06],\n",
              "        [-4.41402973e-06,  5.19913866e-06,  9.32169372e-06, ...,\n",
              "          1.43164854e-05,  1.56214075e-05,  8.84729831e-06],\n",
              "        [-6.86552849e-06,  4.88480332e-06,  9.12639985e-06, ...,\n",
              "          1.51643036e-05,  1.56014759e-05,  9.48377201e-06]],\n",
              "\n",
              "       [[-8.44267611e-06, -3.28878481e-06, -1.86593126e-06, ...,\n",
              "         -1.07981923e-05, -1.07649903e-05, -5.03318784e-06],\n",
              "        [-8.26333864e-06, -3.34930856e-06, -1.19660067e-06, ...,\n",
              "         -1.11196768e-05, -1.01095695e-05, -4.42981670e-06],\n",
              "        [-8.40435850e-06, -4.00878412e-06, -1.94762078e-06, ...,\n",
              "         -1.20108405e-05, -1.06190119e-05, -4.70807380e-06],\n",
              "        ...,\n",
              "        [-1.41467390e-05, -8.64767956e-06, -8.47754682e-06, ...,\n",
              "          1.55244750e-06,  3.94868183e-06,  6.62605168e-06],\n",
              "        [-1.15849581e-05, -5.96018210e-06, -3.21372957e-06, ...,\n",
              "         -4.38070045e-06, -2.57896088e-07,  4.21419335e-07],\n",
              "        [-1.06878131e-05, -4.47205048e-06, -2.77073864e-06, ...,\n",
              "         -3.87910089e-06, -4.80135798e-07, -1.70021933e-07]],\n",
              "\n",
              "       [[-2.89897933e-06, -6.23124774e-07,  4.73358129e-06, ...,\n",
              "         -2.40889943e-06,  4.31475801e-06,  1.00261553e-05],\n",
              "        [-3.30797826e-06, -8.20338714e-07,  5.19572103e-06, ...,\n",
              "         -2.39022912e-06,  3.98982674e-06,  9.71134979e-06],\n",
              "        [-2.23581572e-06, -6.42330054e-08,  5.35819282e-06, ...,\n",
              "         -1.25671559e-06,  4.83199956e-06,  1.02101183e-05],\n",
              "        ...,\n",
              "        [ 7.57747902e-06,  7.89656662e-06,  9.28931868e-06, ...,\n",
              "          1.23134810e-05,  4.83701276e-06,  5.12310781e-06],\n",
              "        [-1.03257945e-06,  1.63489190e-06,  4.06883530e-06, ...,\n",
              "          1.64100742e-05,  5.07236741e-06, -7.48096803e-08],\n",
              "        [-9.28296700e-09,  3.19462671e-06,  6.08837806e-06, ...,\n",
              "          1.58923395e-05,  6.13424348e-06,  5.31730992e-07]]])"
            ]
          },
          "execution_count": 28,
          "metadata": {},
          "output_type": "execute_result"
        }
      ],
      "source": [
        "X"
      ]
    },
    {
      "cell_type": "code",
      "execution_count": 27,
      "metadata": {},
      "outputs": [
        {
          "data": {
            "text/plain": [
              "array([0., 1.])"
            ]
          },
          "execution_count": 27,
          "metadata": {},
          "output_type": "execute_result"
        }
      ],
      "source": [
        "np.unique(Y)"
      ]
    }
  ],
  "metadata": {
    "colab": {
      "collapsed_sections": [],
      "name": "Database_load_Tutorial.ipynb",
      "provenance": []
    },
    "kernelspec": {
      "display_name": "Python 3",
      "name": "python3"
    },
    "language_info": {
      "codemirror_mode": {
        "name": "ipython",
        "version": 3
      },
      "file_extension": ".py",
      "mimetype": "text/x-python",
      "name": "python",
      "nbconvert_exporter": "python",
      "pygments_lexer": "ipython3",
      "version": "3.12.1"
    }
  },
  "nbformat": 4,
  "nbformat_minor": 0
}
